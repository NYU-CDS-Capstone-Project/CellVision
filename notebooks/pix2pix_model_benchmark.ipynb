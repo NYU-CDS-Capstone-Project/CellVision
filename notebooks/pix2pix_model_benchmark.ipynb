{
 "cells": [
  {
   "cell_type": "markdown",
   "metadata": {},
   "source": [
    "### Pix2Pix modeling\n",
    "\n",
    "Model repo: https://github.com/junyanz/pytorch-CycleGAN-and-pix2pix\n",
    "\n",
    "Paper: https://arxiv.org/pdf/1611.07004.pdf"
   ]
  },
  {
   "cell_type": "code",
   "execution_count": 2,
   "metadata": {},
   "outputs": [
    {
     "name": "stdout",
     "output_type": "stream",
     "text": [
      "Populating the interactive namespace from numpy and matplotlib\n"
     ]
    }
   ],
   "source": [
    "import numpy as np\n",
    "import matplotlib.pyplot as plt\n",
    "\n",
    "from cellvision_lib import train_test_val\n",
    "%pylab inline"
   ]
  },
  {
   "cell_type": "code",
   "execution_count": 3,
   "metadata": {},
   "outputs": [
    {
     "data": {
      "text/plain": [
       "[['/gpfs/data/lionnetlab/cellvision/pilotdata/20181009-normalizedsample68_channel1_z93.tif',\n",
       "  '/gpfs/data/lionnetlab/cellvision/pilotdata/20181009-normalizedsample68_channel6_z93.tif'],\n",
       " ['/gpfs/data/lionnetlab/cellvision/pilotdata/20181009-normalizedsample57_channel1_z33.tif',\n",
       "  '/gpfs/data/lionnetlab/cellvision/pilotdata/20181009-normalizedsample57_channel6_z33.tif'],\n",
       " ['/gpfs/data/lionnetlab/cellvision/pilotdata/20181009-normalizedsample74_channel1_z35.tif',\n",
       "  '/gpfs/data/lionnetlab/cellvision/pilotdata/20181009-normalizedsample74_channel6_z35.tif'],\n",
       " ['/gpfs/data/lionnetlab/cellvision/pilotdata/20181009-normalizedsample60_channel6_z97.tif',\n",
       "  '/gpfs/data/lionnetlab/cellvision/pilotdata/20181009-normalizedsample60_channel1_z97.tif'],\n",
       " ['/gpfs/data/lionnetlab/cellvision/pilotdata/20181009-normalizedsample59_channel1_z9.tif',\n",
       "  '/gpfs/data/lionnetlab/cellvision/pilotdata/20181009-normalizedsample59_channel6_z9.tif'],\n",
       " ['/gpfs/data/lionnetlab/cellvision/pilotdata/20181009-normalizedsample9_channel6_z85.tif',\n",
       "  '/gpfs/data/lionnetlab/cellvision/pilotdata/20181009-normalizedsample9_channel1_z85.tif'],\n",
       " ['/gpfs/data/lionnetlab/cellvision/pilotdata/20181009-normalizedsample29_channel1_z42.tif',\n",
       "  '/gpfs/data/lionnetlab/cellvision/pilotdata/20181009-normalizedsample29_channel6_z42.tif'],\n",
       " ['/gpfs/data/lionnetlab/cellvision/pilotdata/20181009-normalizedsample114_channel6_z82.tif',\n",
       "  '/gpfs/data/lionnetlab/cellvision/pilotdata/20181009-normalizedsample114_channel1_z82.tif'],\n",
       " ['/gpfs/data/lionnetlab/cellvision/pilotdata/20181009-normalizedsample53_channel1_z12.tif',\n",
       "  '/gpfs/data/lionnetlab/cellvision/pilotdata/20181009-normalizedsample53_channel6_z12.tif'],\n",
       " ['/gpfs/data/lionnetlab/cellvision/pilotdata/20181009-normalizedsample76_channel6_z54.tif',\n",
       "  '/gpfs/data/lionnetlab/cellvision/pilotdata/20181009-normalizedsample76_channel1_z54.tif']]"
      ]
     },
     "execution_count": 3,
     "metadata": {},
     "output_type": "execute_result"
    }
   ],
   "source": [
    "# Proprocesing the data for pix2pix model\n",
    "\n",
    "MAX_DEPTH = 100\n",
    "NUM_SAMPLES = 109\n",
    "\n",
    "folder_path = '/gpfs/data/lionnetlab/cellvision/pilotdata/20181009-normalized'\n",
    "\n",
    "train, test, val = train_test_val(folder_path, channels = 1, train_pp = .67, test_pp = .165, val_pp = .165, set_seed = 1)\n",
    "train[0:10]\n",
    "\n",
    "\n",
    "\n",
    "\n",
    "# print(len(channel1_comps))"
   ]
  },
  {
   "cell_type": "code",
   "execution_count": null,
   "metadata": {},
   "outputs": [],
   "source": []
  },
  {
   "cell_type": "code",
   "execution_count": null,
   "metadata": {},
   "outputs": [],
   "source": []
  }
 ],
 "metadata": {
  "kernelspec": {
   "display_name": "Python 3",
   "language": "python",
   "name": "python3"
  },
  "language_info": {
   "codemirror_mode": {
    "name": "ipython",
    "version": 3
   },
   "file_extension": ".py",
   "mimetype": "text/x-python",
   "name": "python",
   "nbconvert_exporter": "python",
   "pygments_lexer": "ipython3",
   "version": "3.6.7"
  }
 },
 "nbformat": 4,
 "nbformat_minor": 2
}
