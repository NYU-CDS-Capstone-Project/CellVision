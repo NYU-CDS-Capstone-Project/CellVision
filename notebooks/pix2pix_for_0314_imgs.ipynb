{
 "cells": [
  {
   "cell_type": "code",
   "execution_count": 4,
   "metadata": {},
   "outputs": [],
   "source": [
    "import cv2\n",
    "import glob\n",
    "import os\n",
    "import pickle as pkl\n",
    "\n",
    "import numpy as np\n",
    "import matplotlib.pyplot as plt\n",
    "import statistics\n",
    "\n",
    "from skimage import data, img_as_float, img_as_ubyte, io, color, img_as_uint\n",
    "from skimage.measure import compare_ssim\n",
    "from skimage.measure import compare_mse, compare_nrmse\n",
    "from get_data_splits_newdata import get_model_data_splits\n",
    "# %pylab inline"
   ]
  },
  {
   "cell_type": "code",
   "execution_count": 5,
   "metadata": {},
   "outputs": [
    {
     "data": {
      "text/plain": [
       "'\\npython datasets/combine_A_and_B.py --fold_A /gpfs/data/lionnetlab/cellvision/pilotdata/20190314-pix2pix/channel1_1000/A --fold_B /gpfs/data/lionnetlab/cellvision/pilotdata/20190314-pix2pix/channel1_1000/B --fold_AB /gpfs/data/lionnetlab/cellvision/pilotdata/20190314-pix2pix/channel1_1000\\n\\n\\nbsub -gpu \"num=1:mode=exclusive_process:mps=yes\" -o log0314_channel1_1000_jobout4.txt python train.py --save_epoch_freq 50 --dataroot /gpfs/data/lionnetlab/cellvision/pilotdata/20190314-pix2pix/channel1_1000 --name cellvision0314_channel1_1000 --model pix2pix --direction AtoB --gpu 0 --display_id 0 --loadSize 512 --fineSize 512\\n\\n\\n'"
      ]
     },
     "execution_count": 5,
     "metadata": {},
     "output_type": "execute_result"
    }
   ],
   "source": [
    "\"\"\"\n",
    "python datasets/combine_A_and_B.py --fold_A /gpfs/data/lionnetlab/cellvision/pilotdata/20190314-pix2pix/channel1_1000/A --fold_B /gpfs/data/lionnetlab/cellvision/pilotdata/20190314-pix2pix/channel1_1000/B --fold_AB /gpfs/data/lionnetlab/cellvision/pilotdata/20190314-pix2pix/channel1_1000\n",
    "\n",
    "\n",
    "bsub -gpu \"num=1:mode=exclusive_process:mps=yes\" -o log0314_channel1_1000_jobout4.txt python train.py --save_epoch_freq 50 --dataroot /gpfs/data/lionnetlab/cellvision/pilotdata/20190314-pix2pix/channel1_1000 --name cellvision0314_channel1_1000 --model pix2pix --direction AtoB --gpu 0 --display_id 0 --loadSize 512 --fineSize 512\n",
    "\n",
    "\n",
    "\"\"\""
   ]
  },
  {
   "cell_type": "code",
   "execution_count": 10,
   "metadata": {},
   "outputs": [
    {
     "name": "stdout",
     "output_type": "stream",
     "text": [
      "Performing channel1 comparison\n",
      "Performing channel2 comparison\n",
      "Performing channel3 comparison\n",
      "[('channel1', 0.10344394259753834), ('channel2', 0.4300114707439371), ('channel3', 0.7234032725017239)]\n"
     ]
    }
   ],
   "source": [
    "\n",
    "\n",
    "source_imgs_path = '/gpfs/data/lionnetlab/cellvision/gfpdata/20190314-single_img'\n",
    "\n",
    "channel4_img_paths = glob.glob('{}/amr_*_sample*_channel4.tif'.format(source_imgs_path))\n",
    "\n",
    "comp_channels = ['channel1', 'channel2', 'channel3']\n",
    "\n",
    "comp_channel_ssims = []\n",
    "for comp_channel in  comp_channels:\n",
    "    print(\"Performing {} comparison\".format(comp_channel))\n",
    "    channel_ssims = []\n",
    "    for channel4_img_path in channel4_img_paths:\n",
    "        channel4_img_path = channel4_img_path.replace('channel4', comp_channel)\n",
    "        channel_img = io.imread(channel1_img_path).astype(np.uint)\n",
    "        channel4_img = io.imread(channel4_img_path).astype(np.uint)\n",
    "        channel_img_ft = img_as_float(channel_img)\n",
    "        channel4_img_ft = img_as_float(channel4_img)\n",
    "        _min = channel4_img_ft.min()\n",
    "        _max = channel4_img_ft.max()\n",
    "        channel_ssim = compare_ssim(channel_img_ft, channel4_img_ft, data_range=_max-_min)\n",
    "        channel_ssims.append(channel_ssim)\n",
    "    channel_mean = statistics.mean(channel_ssims)\n",
    "    comp_channel_ssims.append( (comp_channel, channel_mean) )\n",
    "print(comp_channel_ssims)\n"
   ]
  },
  {
   "cell_type": "code",
   "execution_count": null,
   "metadata": {},
   "outputs": [],
   "source": []
  },
  {
   "cell_type": "code",
   "execution_count": null,
   "metadata": {},
   "outputs": [],
   "source": []
  },
  {
   "cell_type": "code",
   "execution_count": null,
   "metadata": {},
   "outputs": [],
   "source": []
  }
 ],
 "metadata": {
  "kernelspec": {
   "display_name": "Python 3",
   "language": "python",
   "name": "python3"
  },
  "language_info": {
   "codemirror_mode": {
    "name": "ipython",
    "version": 3
   },
   "file_extension": ".py",
   "mimetype": "text/x-python",
   "name": "python",
   "nbconvert_exporter": "python",
   "pygments_lexer": "ipython3",
   "version": "3.6.8"
  }
 },
 "nbformat": 4,
 "nbformat_minor": 2
}
