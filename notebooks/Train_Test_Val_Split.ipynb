{
 "cells": [
  {
   "cell_type": "code",
   "execution_count": 5,
   "metadata": {},
   "outputs": [],
   "source": [
    "import numpy as np\n",
    "import pandas as pd\n",
    "import os\n",
    "from collections import defaultdict"
   ]
  },
  {
   "cell_type": "code",
   "execution_count": 27,
   "metadata": {},
   "outputs": [],
   "source": [
    "def train_test_val(folder_path, channels = 1, train_pp = .6, test_pp = .2, val_pp = .2, set_seed = 1):\n",
    "    #check to make sure percentages equal 1\n",
    "    if train_pp+test_pp+val_pp != 1:\n",
    "        raise Exception(\"train, test, val percentages must equal 1\")\n",
    "    \n",
    "    #check to make sure channels in 1-5\n",
    "    for c in list((channels,6)):\n",
    "        if c not in list(range(1,7)):\n",
    "            raise Exception(\"channels can only be in range 1-5\")\n",
    "    \n",
    "    #Find file paths\n",
    "    for root, dirs, files in os.walk(folder_path):\n",
    "        root_path = root\n",
    "        root_dir = dirs\n",
    "        root_files = files\n",
    "    \n",
    "    #split each file to find relevant numbers\n",
    "    sample_zplanes_folder = []\n",
    "    for file in root_files:\n",
    "        s,c,z = file.split('_')\n",
    "        s_n = s.strip('sample')\n",
    "        c_n = c.strip('channel')\n",
    "        z_n = z.strip('z').split('.')[0]\n",
    "        #create new entries where first part of key is sample #\n",
    "        #second part of key is zplane #\n",
    "        entry = list([str(s_n)+str('_')+str(z_n), file])\n",
    "        sample_zplanes_folder.append(entry)\n",
    "    \n",
    "    #create dictionary with new keys for sample # and zplane #\n",
    "    d = defaultdict(list)\n",
    "    for key, entry in sample_zplanes_folder:\n",
    "        d[key].append(entry)\n",
    "    \n",
    "    #full dictionary of files with corresponding sample/zplane #\n",
    "    samples = d\n",
    "    #just sample/zplane keys used to split data\n",
    "    samples_list = list(samples.keys())\n",
    "\n",
    "\n",
    "    #set number entries base on pp's for train, test, val\n",
    "    train_p, test_p, val_p = round((len(samples_list))*train_pp), \\\n",
    "                             round((len(samples_list))*test_pp), \\\n",
    "                             round((len(samples_list))*val_pp)\n",
    "\n",
    "    #set train seed\n",
    "    np.random.seed(set_seed)\n",
    "    #select training set\n",
    "    train = list(np.random.choice(samples_list, size=train_p, replace=False))\n",
    "    #remove training set from original list\n",
    "    samples_list = list(set(samples_list) - set(train))\n",
    "\n",
    "    #set test seed\n",
    "    np.random.seed(set_seed)\n",
    "    #select training set\n",
    "    test = list(np.random.choice(samples_list, size=test_p, replace=False))\n",
    "    #remove training set from original list\n",
    "    val = list(set(samples_list) - set(test))\n",
    "    \n",
    "    #set channel list\n",
    "    channel_set = list((channels,6))\n",
    "    \n",
    "    #training data\n",
    "    train_paths = []\n",
    "    for t in train:\n",
    "        entry = samples[t]\n",
    "        train_paths.append(entry)\n",
    "\n",
    "    train_final = []\n",
    "    for file in train_paths:\n",
    "        temp = []\n",
    "        for channel_file in file:\n",
    "            s,c,z = channel_file.split('_')\n",
    "            c_n = c.strip('channel')\n",
    "            for c in channel_set:\n",
    "                if c_n == str(c):\n",
    "                    temp.append(str(root_path)+str(channel_file))\n",
    "        train_final.append(temp)   \n",
    "\n",
    "    #test data\n",
    "    test_paths = []\n",
    "    for t in test:\n",
    "        entry = samples[t]\n",
    "        test_paths.append(entry)\n",
    "\n",
    "    test_final = []\n",
    "    for file in test_paths:\n",
    "        temp = []\n",
    "        for channel_file in file:\n",
    "            s,c,z = channel_file.split('_')\n",
    "            c_n = c.strip('channel')\n",
    "            for c in channel_set:\n",
    "                if c_n == str(c):\n",
    "                    temp.append(str(root_path)+str(channel_file))\n",
    "        test_final.append(temp)  \n",
    "\n",
    "    #validation data \n",
    "    val_paths = []\n",
    "    for t in val:\n",
    "        entry = samples[t]\n",
    "        val_paths.append(entry)\n",
    "\n",
    "    val_final = []\n",
    "    for file in val_paths:\n",
    "        temp = []\n",
    "        for channel_file in file:\n",
    "            s,c,z = channel_file.split('_')\n",
    "            c_n = c.strip('channel')\n",
    "            for c in channel_set:\n",
    "                if c_n == str(c):\n",
    "                    temp.append(str(root_path)+str(channel_file))\n",
    "        val_final.append(temp)\n",
    "    \n",
    "    return(train_final, test_final, val_final)"
   ]
  },
  {
   "cell_type": "code",
   "execution_count": 28,
   "metadata": {},
   "outputs": [],
   "source": [
    "folder_path = '/gpfs/data/lionnetlab/cellvision/pilotdata/split_test/'\n",
    "\n",
    "train, test, val = train_test_val(folder_path, channels = 1, train_pp = .67, test_pp = .165, val_pp = .165, set_seed = 1)"
   ]
  },
  {
   "cell_type": "code",
   "execution_count": 29,
   "metadata": {},
   "outputs": [
    {
     "data": {
      "text/plain": [
       "[['/gpfs/data/lionnetlab/cellvision/pilotdata/split_test/sample1_channel1_z6.img',\n",
       "  '/gpfs/data/lionnetlab/cellvision/pilotdata/split_test/sample1_channel6_z6.img'],\n",
       " ['/gpfs/data/lionnetlab/cellvision/pilotdata/split_test/sample1_channel1_z2.img',\n",
       "  '/gpfs/data/lionnetlab/cellvision/pilotdata/split_test/sample1_channel6_z2.img'],\n",
       " ['/gpfs/data/lionnetlab/cellvision/pilotdata/split_test/sample1_channel6_z1.img',\n",
       "  '/gpfs/data/lionnetlab/cellvision/pilotdata/split_test/sample1_channel1_z1.img'],\n",
       " ['/gpfs/data/lionnetlab/cellvision/pilotdata/split_test/sample1_channel6_z4.img',\n",
       "  '/gpfs/data/lionnetlab/cellvision/pilotdata/split_test/sample1_channel1_z4.img']]"
      ]
     },
     "execution_count": 29,
     "metadata": {},
     "output_type": "execute_result"
    }
   ],
   "source": [
    "train"
   ]
  },
  {
   "cell_type": "code",
   "execution_count": 30,
   "metadata": {},
   "outputs": [
    {
     "data": {
      "text/plain": [
       "[['/gpfs/data/lionnetlab/cellvision/pilotdata/split_test/sample1_channel6_z3.img',\n",
       "  '/gpfs/data/lionnetlab/cellvision/pilotdata/split_test/sample1_channel1_z3.img']]"
      ]
     },
     "execution_count": 30,
     "metadata": {},
     "output_type": "execute_result"
    }
   ],
   "source": [
    "test"
   ]
  },
  {
   "cell_type": "code",
   "execution_count": 31,
   "metadata": {},
   "outputs": [
    {
     "data": {
      "text/plain": [
       "[['/gpfs/data/lionnetlab/cellvision/pilotdata/split_test/sample1_channel6_z5.img',\n",
       "  '/gpfs/data/lionnetlab/cellvision/pilotdata/split_test/sample1_channel1_z5.img']]"
      ]
     },
     "execution_count": 31,
     "metadata": {},
     "output_type": "execute_result"
    }
   ],
   "source": [
    "val"
   ]
  },
  {
   "cell_type": "code",
   "execution_count": null,
   "metadata": {},
   "outputs": [],
   "source": []
  }
 ],
 "metadata": {
  "kernelspec": {
   "display_name": "Python 3",
   "language": "python",
   "name": "python3"
  },
  "language_info": {
   "codemirror_mode": {
    "name": "ipython",
    "version": 3
   },
   "file_extension": ".py",
   "mimetype": "text/x-python",
   "name": "python",
   "nbconvert_exporter": "python",
   "pygments_lexer": "ipython3",
   "version": "3.6.6"
  }
 },
 "nbformat": 4,
 "nbformat_minor": 2
}
