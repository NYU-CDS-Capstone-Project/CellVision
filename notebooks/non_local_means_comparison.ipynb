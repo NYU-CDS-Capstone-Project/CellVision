{
 "cells": [
  {
   "cell_type": "markdown",
   "metadata": {},
   "source": [
    "### Non-Local Means Comparison\n",
    "\n",
    "The purpose of this notebook is to create a baseline similarity comparison between the low-level intensity images using non-local means image processing algorithm with the high intensity cell images."
   ]
  },
  {
   "cell_type": "code",
   "execution_count": 1,
   "metadata": {},
   "outputs": [
    {
     "name": "stdout",
     "output_type": "stream",
     "text": [
      "Populating the interactive namespace from numpy and matplotlib\n"
     ]
    },
    {
     "name": "stderr",
     "output_type": "stream",
     "text": [
      "/gpfs/share/skynet/apps/anaconda3/envs/pytorch-env/lib/python3.6/site-packages/IPython/core/magics/pylab.py:160: UserWarning: pylab import has clobbered these variables: ['entropy']\n",
      "`%matplotlib` prevents importing * from pylab and numpy\n",
      "  \"\\n`%matplotlib` prevents importing * from pylab and numpy\"\n"
     ]
    }
   ],
   "source": [
    "import numpy as np\n",
    "import skimage \n",
    "import matplotlib.pyplot as plt\n",
    "\n",
    "from cellvision_lib import train_test_val\n",
    "from scipy.stats import entropy\n",
    "from skimage import data, img_as_float, img_as_ubyte, io\n",
    "from skimage.measure import compare_ssim\n",
    "from skimage.measure import compare_mse\n",
    "from skimage.morphology import disk\n",
    "from skimage.restoration import denoise_nl_means, estimate_sigma\n",
    "%pylab inline"
   ]
  },
  {
   "cell_type": "code",
   "execution_count": 2,
   "metadata": {},
   "outputs": [
    {
     "name": "stdout",
     "output_type": "stream",
     "text": [
      "10488\n"
     ]
    }
   ],
   "source": [
    "import glob\n",
    "import os\n",
    "\n",
    "MAX_DEPTH = 100\n",
    "NUM_SAMPLES = 109\n",
    "\n",
    "folder_path = '/gpfs/data/lionnetlab/cellvision/pilotdata/20181009-normalized'\n",
    "\n",
    "# train, test, val = train_test_val(folder_path, channels = 1, train_pp = .67, test_pp = .165, val_pp = .165, set_seed = 1)\n",
    "\n",
    "def get_comp_path_tuples(data_dir, comp_channel, reference_channel=6):\n",
    "    comps = []\n",
    "    for i in range(1, NUM_SAMPLES):\n",
    "        for z in range(1, MAX_DEPTH):\n",
    "            ref_path = data_dir + '/sample{}_channel{}_z{}.tif'.format(i, reference_channel, z)\n",
    "            comp_path = data_dir + '/sample{}_channel{}_z{}.tif'.format(i, comp_channel, z)\n",
    "            if not os.path.isfile(ref_path) or not os.path.isfile(comp_path):\n",
    "                continue\n",
    "            comps.append( (comp_path, ref_path) )\n",
    "    return comps\n",
    "\n",
    "channel1_comps = get_comp_path_tuples(folder_path, 1)\n",
    "channel2_comps = get_comp_path_tuples(folder_path, 2)\n",
    "channel3_comps = get_comp_path_tuples(folder_path, 3)\n",
    "channel4_comps = get_comp_path_tuples(folder_path, 4)\n",
    "channel5_comps = get_comp_path_tuples(folder_path, 5)\n",
    "\n",
    "print(len(channel1_comps))"
   ]
  },
  {
   "cell_type": "code",
   "execution_count": 3,
   "metadata": {},
   "outputs": [
    {
     "name": "stdout",
     "output_type": "stream",
     "text": [
      "\n",
      "Beginning comp process for channel 1\n"
     ]
    },
    {
     "name": "stderr",
     "output_type": "stream",
     "text": [
      "/gpfs/share/skynet/apps/anaconda3/envs/pytorch-env/lib/python3.6/site-packages/skimage/util/dtype.py:130: UserWarning: Possible precision loss when converting from uint64 to float64\n",
      "  .format(dtypeobj_in, dtypeobj_out))\n",
      "/gpfs/share/skynet/apps/anaconda3/envs/pytorch-env/lib/python3.6/site-packages/skimage/restoration/non_local_means.py:132: UserWarning: denoise_nl_means will default to multichannel=False in v0.15\n",
      "  warn('denoise_nl_means will default to multichannel=False in v0.15')\n"
     ]
    },
    {
     "name": "stdout",
     "output_type": "stream",
     "text": [
      "Dumping pickled results into outputs/baseline_channel1\n",
      "\n",
      "Beginning comp process for channel 2\n",
      "Dumping pickled results into outputs/baseline_channel2\n",
      "\n",
      "Beginning comp process for channel 3\n",
      "Dumping pickled results into outputs/baseline_channel3\n",
      "\n",
      "Beginning comp process for channel 4\n",
      "Dumping pickled results into outputs/baseline_channel4\n",
      "\n",
      "Beginning comp process for channel 5\n",
      "Dumping pickled results into outputs/baseline_channel5\n",
      "Elapsed time: 449.21 seconds\n"
     ]
    }
   ],
   "source": [
    "# Channel 1 comps\n",
    "import pickle as pkl\n",
    "from time import time\n",
    "\n",
    "def process_channel_comps(image_paths, channel, test=''):\n",
    "    print()\n",
    "    print(\"Beginning comp process for channel {}\".format(channel))\n",
    "    comps = []\n",
    "    for comp_path, ref_path in image_paths:\n",
    "        comp = io.imread(comp_path).astype(np.uint)\n",
    "        ref = io.imread(ref_path).astype(np.uint)\n",
    "        comp_ft = img_as_float(comp)\n",
    "        ref_ft = img_as_float(ref)\n",
    "        channel_mse = compare_mse(comp, ref)\n",
    "        _min = ref_ft.min()\n",
    "        _max = ref_ft.max()\n",
    "        channel_ssim = compare_ssim(comp_ft, ref_ft, data_range=_max-_min)\n",
    "        denoised_comp = denoise_nl_means(comp_ft)\n",
    "        channel_dn_mse = compare_mse(denoised_comp, ref_ft)\n",
    "        channel_dn_ssim = compare_ssim(denoised_comp, ref_ft, data_range=_max-_min)\n",
    "        comps.append( (comp_path, ref_path, channel_mse, channel_ssim, channel_dn_mse, channel_dn_ssim) )\n",
    "    out_path = \"outputs/baseline_channel{}{}\".format(channel,test)\n",
    "    print(\"Dumping pickled results into {}\".format(out_path))\n",
    "    pkl.dump(comps, open(out_path, \"wb\"))\n",
    "\n",
    "start = time()\n",
    "process_channel_comps(channel1_comps[0:50], 1, test='')\n",
    "process_channel_comps(channel2_comps[0:50], 2, test='')\n",
    "process_channel_comps(channel3_comps[0:50], 3, test='')\n",
    "process_channel_comps(channel4_comps[0:50], 4, test='')\n",
    "process_channel_comps(channel5_comps[0:50], 5, test='')\n",
    "end = time()\n",
    "print(\"Elapsed time: {} seconds\".format(round(end - start, 2)))"
   ]
  },
  {
   "cell_type": "code",
   "execution_count": 4,
   "metadata": {},
   "outputs": [],
   "source": [
    "channel_comps = []\n",
    "load_channels = range(1,6)\n",
    "for i in load_channels:  \n",
    "    with open('outputs/baseline_channel{}'.format(i), 'rb') as pickle_file:\n",
    "        channel_scores = pkl.load(pickle_file)\n",
    "        channel_comps.append(channel_scores)"
   ]
  },
  {
   "cell_type": "code",
   "execution_count": 5,
   "metadata": {},
   "outputs": [
    {
     "name": "stdout",
     "output_type": "stream",
     "text": [
      "('/gpfs/data/lionnetlab/cellvision/pilotdata/20181009-normalized/sample1_channel2_z1.tif', '/gpfs/data/lionnetlab/cellvision/pilotdata/20181009-normalized/sample1_channel6_z1.tif', 20511113.88896942, 0.2965951636780404, 6.028695810753086e-32, 0.2985823346768401)\n"
     ]
    }
   ],
   "source": [
    "print(channel_comps[1][0])"
   ]
  },
  {
   "cell_type": "code",
   "execution_count": 13,
   "metadata": {},
   "outputs": [
    {
     "data": {
      "image/png": "[encoded data removed]",
      "text/plain": [
       "<Figure size 432x288 with 1 Axes>"
      ]
     },
     "metadata": {
      "needs_background": "light"
     },
     "output_type": "display_data"
    },
    {
     "data": {
      "image/png": "[encoded data removed]",
      "text/plain": [
       "<Figure size 432x288 with 1 Axes>"
      ]
     },
     "metadata": {
      "needs_background": "light"
     },
     "output_type": "display_data"
    },
    {
     "data": {
      "image/png": "[encoded data removed]",
      "text/plain": [
       "<Figure size 432x288 with 1 Axes>"
      ]
     },
     "metadata": {
      "needs_background": "light"
     },
     "output_type": "display_data"
    }
   ],
   "source": [
    "import statistics\n",
    "\n",
    "z_means_idx2 = {}\n",
    "\n",
    "metrics_tracker = {\n",
    "    'z_means_idx' : {},\n",
    "    'mse_means': [],\n",
    "    'mse_stds' : [],\n",
    "    'ssim_means' : [],\n",
    "    'ssim_stds' : [],\n",
    "    'mse_means_dn' : [],\n",
    "    'mse_stds_dn' : [],\n",
    "    'ssim_means_dn' : [],\n",
    "    'ssim_stds_dn' : []\n",
    "}\n",
    "\n",
    "for i, channel in enumerate(channel_comps):\n",
    "    mse = [metric[2] for metric in channel]\n",
    "    mse_std = statistics.stdev(mse)\n",
    "    mse_mean = statistics.mean(mse)\n",
    "    metrics_tracker['mse_means'] = metrics_tracker['mse_means'] + [mse_mean]\n",
    "    metrics_tracker['mse_stds'] = metrics_tracker['mse_stds'] + [mse_std]\n",
    "    \n",
    "    ssim = [metric[3] for metric in channel]\n",
    "    ssim_std = statistics.stdev(ssim)\n",
    "    ssim_mean = statistics.mean(ssim)\n",
    "    metrics_tracker['ssim_means'] = metrics_tracker['ssim_means'] + [ssim_mean]\n",
    "    metrics_tracker['ssim_stds'] = metrics_tracker['ssim_stds'] + [ssim_std]\n",
    "    \n",
    "    mse_dn = [metric[4] for metric in channel]\n",
    "    mse_dn_std = statistics.stdev(mse_dn)\n",
    "    mse_dn_mean = statistics.mean(mse_dn)\n",
    "    metrics_tracker['mse_means_dn'] = metrics_tracker['mse_means_dn'] + [mse_dn_mean]\n",
    "    metrics_tracker['mse_stds_dn'] = metrics_tracker['mse_stds_dn'] + [mse_dn_std]\n",
    "    \n",
    "    ssim_dn = [metric[5] for metric in channel]\n",
    "    ssim_dn_std = statistics.stdev(ssim_dn)\n",
    "    ssim_dn_mean = statistics.mean(ssim_dn)\n",
    "    metrics_tracker['ssim_means_dn'] = metrics_tracker['ssim_means_dn'] + [ssim_dn_mean]\n",
    "    metrics_tracker['ssim_stds_dn'] = metrics_tracker['ssim_stds_dn'] + [ssim_dn_std]\n",
    "    \n",
    "#     z_means_idx2 = {}\n",
    "    for metric in channel:\n",
    "        z_idx = metric[0].find('_z')\n",
    "        z_val = metric[0][z_idx + 2:-4]\n",
    "        key = str(i + 1) + '_' + str(z_val)\n",
    "        if key not in z_means_idx2:\n",
    "            z_means_idx2[key] = [metric[3]]\n",
    "        else:\n",
    "            z_means_idx2[key] = z_means_idx2[key] + [metric[3]]\n",
    "\n",
    "for key, val in z_means_idx2.items():\n",
    "    z_means_idx2[key] = statistics.mean(val)\n",
    "# print(z_means_idx2)\n",
    "# print(metrics_tracker)\n",
    "# Comparing Structural Similarity Index for denoising\n",
    "MAX_DEPTH = 49\n",
    "for i in range(1,6):\n",
    "    channel_z_means = []\n",
    "    for y in range(1,MAX_DEPTH):\n",
    "        key = str(i) + '_' + str(y)\n",
    "        channel_z_means.append(z_means_idx2[key])\n",
    "    plt.plot(list(range(1, MAX_DEPTH)), channel_z_means, label=\"Channel: {}\".format(i)) \n",
    "\n",
    "plt.title('Comparing SSIM Across Z depth')\n",
    "plt.legend(loc = 'upper right')\n",
    "plt.ylim([0, 1])\n",
    "plt.xlim([1, 100])\n",
    "# plt.axes().set_xticks(list(range(1, 6)), minor=False)\n",
    "\n",
    "plt.ylabel('SSIM')\n",
    "plt.xlabel('Z depth')\n",
    "plt.show()\n",
    "# print(z_means_idx.keys())\n",
    "# print(z_means_idx['5_30'])   \n",
    "\n",
    "\n",
    "# Comparing Structural Similarity Index for denoising\n",
    "plt.plot(list(range(1, 6)), metrics_tracker['ssim_means'], label=\"No Transformation\", color='blue') \n",
    "plt.plot(list(range(1, 6)), \n",
    "         [sum(x) for x in zip(metrics_tracker['ssim_means'], metrics_tracker['ssim_stds'])], \n",
    "         label=\"std\",\n",
    "         linestyle='--',\n",
    "         color='blue') \n",
    "plt.plot(list(range(1, 6)), \n",
    "         [x[0] - x[1] for x in zip(metrics_tracker['ssim_means'], metrics_tracker['ssim_stds'])], \n",
    "         linestyle='--',\n",
    "         color='blue') \n",
    "\n",
    "plt.plot(list(range(1, 6)), metrics_tracker['ssim_means_dn'], label=\"Non-local means denoising\", color='green') \n",
    "plt.plot(list(range(1, 6)), \n",
    "         [sum(x) for x in zip(metrics_tracker['ssim_means_dn'], metrics_tracker['ssim_stds_dn'])], \n",
    "         label=\"std\",\n",
    "         linestyle='--',\n",
    "         color='green') \n",
    "plt.plot(list(range(1, 6)), \n",
    "         [x[0] - x[1] for x in zip(metrics_tracker['ssim_means_dn'], metrics_tracker['ssim_stds_dn'])], \n",
    "         linestyle='--',\n",
    "         color='green') \n",
    "\n",
    "plt.title('Comparing Structural Similarity Index')\n",
    "plt.legend(loc = 'lower right')\n",
    "plt.ylim([0, 1])\n",
    "plt.xlim([1, 5])\n",
    "plt.axes().set_xticks(list(range(1, 6)), minor=False)\n",
    "\n",
    "plt.ylabel('SSIM')\n",
    "plt.xlabel('Channel (larger number -> higher laser intensity)')\n",
    "plt.show()\n",
    "\n",
    "# Comparing MSE for denoising\n",
    "plt.plot(list(range(1, 6)), metrics_tracker['mse_means'], label=\"No Transformation\", color='blue') \n",
    "plt.plot(list(range(1, 6)), \n",
    "         [sum(x) for x in zip(metrics_tracker['mse_means'], metrics_tracker['mse_stds'])], \n",
    "         label=\"std\",\n",
    "         linestyle='--',\n",
    "         color='blue') \n",
    "plt.plot(list(range(1, 6)), \n",
    "         [x[0] - x[1] for x in zip(metrics_tracker['mse_means'], metrics_tracker['mse_stds'])], \n",
    "         linestyle='--',\n",
    "         color='blue') \n",
    "\n",
    "plt.plot(list(range(1, 6)), metrics_tracker['mse_means_dn'], label=\"Non-local means denoising\", color='green') \n",
    "plt.plot(list(range(1, 6)), \n",
    "         [sum(x) for x in zip(metrics_tracker['mse_means_dn'], metrics_tracker['mse_stds_dn'])], \n",
    "         label=\"std\",\n",
    "         linestyle='--',\n",
    "         color='green') \n",
    "plt.plot(list(range(1, 6)), \n",
    "         [x[0] - x[1] for x in zip(metrics_tracker['mse_means_dn'], metrics_tracker['mse_stds_dn'])], \n",
    "         linestyle='--',\n",
    "         color='green') \n",
    "\n",
    "plt.title('Comparing MSE')\n",
    "plt.legend(loc = 'lower right')\n",
    "# plt.ylim([0, 1])\n",
    "plt.xlim([1, 5])\n",
    "plt.axes().set_xticks(list(range(1, 6)), minor=False)\n",
    "\n",
    "plt.ylabel('MSE')\n",
    "plt.xlabel('Channel (larger number -> higher laser intensity)')\n",
    "plt.show()\n",
    "    \n"
   ]
  },
  {
   "cell_type": "code",
   "execution_count": null,
   "metadata": {},
   "outputs": [],
   "source": [
    "# path_to_data = '/gpfs/data/lionnetlab/cellvision/pilotdata/20181009/test data_1_MMStack_Undefined1.ome.tif'\n",
    "path_to_data = '/gpfs/data/lionnetlab/cellvision/pilotdata/20181009-normalized/sample28_channel1_z12.tif'\n",
    "imsk = io.imread(path_to_data)\n",
    "imsk.shape"
   ]
  },
  {
   "cell_type": "code",
   "execution_count": null,
   "metadata": {},
   "outputs": [],
   "source": [
    "# Convert everything to scaled floating values\n",
    "scaled_imgs_1 = []\n",
    "scaled_imgs_2 = []\n",
    "scaled_imgs_3 = []\n",
    "scaled_imgs_4 = []\n",
    "scaled_imgs_5 = []\n",
    "scaled_imgs_6 = []\n",
    "for i in range(0,imsk.shape[0], 7):\n",
    "    scaled_imgs_1.append(img_as_float(imsk[i,:,:].astype(np.uint)))\n",
    "    scaled_imgs_2.append(img_as_float(imsk[i+1,:,:].astype(np.uint)))\n",
    "    scaled_imgs_3.append(img_as_float(imsk[i+2,:,:].astype(np.uint)))\n",
    "    scaled_imgs_4.append(img_as_float(imsk[i+3,:,:].astype(np.uint)))\n",
    "    scaled_imgs_5.append(img_as_float(imsk[i+4,:,:].astype(np.uint)))\n",
    "    scaled_imgs_6.append(img_as_float(imsk[i+5,:,:].astype(np.uint)))\n",
    "print(scaled_imgs_1[0])\n",
    "# print(scaled_imgs_2[0])"
   ]
  },
  {
   "cell_type": "code",
   "execution_count": null,
   "metadata": {},
   "outputs": [],
   "source": [
    "# for i in range(0,20,10):\n",
    "fig, ax = plt.subplots(ncols=5, nrows=1, figsize=(25,5))\n",
    "ax[0].imshow(scaled_imgs_1[0]);\n",
    "ax[0].axis('off')\n",
    "ax[1].imshow(scaled_imgs_2[0]);\n",
    "ax[1].axis('off')\n",
    "ax[2].imshow(scaled_imgs_3[0]);\n",
    "ax[2].axis('off')\n",
    "ax[3].imshow(scaled_imgs_4[0]);\n",
    "ax[3].axis('off')\n",
    "ax[4].imshow(scaled_imgs_6[0]);\n",
    "ax[4].axis('off')\n",
    "plt.title('z = '+str(1))\n",
    "plt.show()"
   ]
  },
  {
   "cell_type": "code",
   "execution_count": null,
   "metadata": {},
   "outputs": [],
   "source": [
    "_min = scaled_imgs[5].min()\n",
    "_max = scaled_imgs[5].max()\n",
    "print(ssim(scaled_imgs[0],scaled_imgs[5],data_range=_max-_min))\n",
    "print(ssim(scaled_imgs[1],scaled_imgs[5],data_range=_max-_min))\n",
    "print(ssim(scaled_imgs[2],scaled_imgs[5],data_range=_max-_min))\n",
    "print(ssim(scaled_imgs[3],scaled_imgs[5],data_range=_max-_min))\n",
    "print(ssim(scaled_imgs[4],scaled_imgs[5],data_range=_max-_min))\n",
    "print(ssim(scaled_imgs[5],scaled_imgs[5],data_range=_max-_min))\n",
    "print(len(scaled_imgs))"
   ]
  },
  {
   "cell_type": "code",
   "execution_count": null,
   "metadata": {},
   "outputs": [],
   "source": [
    "print(len(scaled_imgs_4))"
   ]
  },
  {
   "cell_type": "code",
   "execution_count": null,
   "metadata": {
    "scrolled": true
   },
   "outputs": [],
   "source": [
    "denoised_imgs_1 = []\n",
    "denoised_imgs_2 = []\n",
    "denoised_imgs_3 = []\n",
    "denoised_imgs_4 = []\n",
    "denoised_imgs_5 = []\n",
    "denoised_imgs_6 = []\n",
    "for i in range(0,5):\n",
    "    denoised_imgs_1.append(denoise_nl_means(scaled_imgs_1[i]))\n",
    "    denoised_imgs_2.append(denoise_nl_means(scaled_imgs_2[i]))\n",
    "    denoised_imgs_3.append(denoise_nl_means(scaled_imgs_3[i]))\n",
    "    denoised_imgs_4.append(denoise_nl_means(scaled_imgs_4[i]))\n",
    "    denoised_imgs_5.append(denoise_nl_means(scaled_imgs_5[i]))\n",
    "    denoised_imgs_6.append(denoise_nl_means(scaled_imgs_6[i]))\n",
    "    print(i)\n",
    "print(denoised_imgs_1[0])"
   ]
  },
  {
   "cell_type": "code",
   "execution_count": null,
   "metadata": {},
   "outputs": [],
   "source": [
    "fig, ax = plt.subplots(ncols=5, nrows=1, figsize=(25,5))\n",
    "# ax[0].imshow(imsk_nl[0]);\n",
    "ax[0].imshow(scaled_imgs_1[0]);\n",
    "ax[0].axis('off')\n",
    "ax[1].imshow(denoised_imgs_1[0]);\n",
    "ax[1].axis('off')\n",
    "ax[2].imshow(scaled_imgs_5[0]);\n",
    "ax[2].axis('off')\n",
    "ax[3].imshow(denoised_imgs_5[0]);\n",
    "ax[3].axis('off')\n",
    "plt.title('z = '+str(1))\n",
    "plt.show()\n",
    "\n",
    "print(ssim(denoised_imgs_4[0],scaled_imgs_5[0],data_range=_max-_min))"
   ]
  },
  {
   "cell_type": "code",
   "execution_count": null,
   "metadata": {},
   "outputs": [],
   "source": [
    "original_ssim_1 = []\n",
    "nl_ssim_1 = []\n",
    "for i in range(0,5):\n",
    "    _min = scaled_imgs_6[i].min()\n",
    "    _max = scaled_imgs_6[i].max()\n",
    "    original_ssim_1.append(ssim(scaled_imgs_1[i],scaled_imgs_6[i],data_range=_max-_min))\n",
    "    nl_ssim_1.append(ssim(denoised_imgs_1[i],scaled_imgs_6[i],data_range=_max-_min))\n",
    "    \n",
    "print(sum(original_ssim_1)/len(original_ssim_1))\n",
    "print(sum(nl_ssim_1)/len(nl_ssim_1))\n",
    "\n",
    "original_ssim_4 = []\n",
    "nl_ssim_4 = []\n",
    "for i in range(0,5):\n",
    "    _min = scaled_imgs_6[i].min()\n",
    "    _max = scaled_imgs_6[i].max()\n",
    "    original_ssim_4.append(ssim(scaled_imgs_4[i],scaled_imgs_6[i],data_range=_max-_min))\n",
    "    nl_ssim_4.append(ssim(denoised_imgs_4[i],scaled_imgs_6[i],data_range=_max-_min))\n",
    "    \n",
    "print(sum(original_ssim_4)/len(original_ssim_4))\n",
    "print(sum(nl_ssim_4)/len(nl_ssim_4))\n",
    "\n",
    "# plt.plot(list(range(0, 5)), original_ssim, label=\"No change\") \n",
    "# plt.plot(list(range(0, 5)), nl_ssim, label=\"Non-local means denoising\") \n",
    "\n",
    "# plt.title('Comparing Structural Similarity Index')\n",
    "# plt.legend(loc = 'lower right')\n",
    "# plt.ylim([0, 1])\n",
    "# plt.xlim([0, 4])\n",
    "# plt.axes().set_xticks(list(range(0, 5)), minor=False)\n",
    "\n",
    "# plt.ylabel('SSIM')\n",
    "# plt.xlabel('Laser Intensity')\n",
    "# plt.show()\n",
    "\n",
    "    \n",
    "    "
   ]
  },
  {
   "cell_type": "code",
   "execution_count": null,
   "metadata": {},
   "outputs": [],
   "source": [
    "print(sum(original_ssim_1)/len(original_ssim_1))\n",
    "print(sum(nl_ssim_1)/len(nl_ssim_1))"
   ]
  }
 ],
 "metadata": {
  "kernelspec": {
   "display_name": "Python 3",
   "language": "python",
   "name": "python3"
  },
  "language_info": {
   "codemirror_mode": {
    "name": "ipython",
    "version": 3
   },
   "file_extension": ".py",
   "mimetype": "text/x-python",
   "name": "python",
   "nbconvert_exporter": "python",
   "pygments_lexer": "ipython3",
   "version": "3.6.7"
  }
 },
 "nbformat": 4,
 "nbformat_minor": 2
}
